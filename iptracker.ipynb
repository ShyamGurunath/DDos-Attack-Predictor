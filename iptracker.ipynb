{
 "cells": [
  {
   "cell_type": "code",
   "execution_count": 1,
   "id": "61478d79-7042-40c5-9eb7-df46ed6ad0aa",
   "metadata": {},
   "outputs": [],
   "source": [
    "import pandas as pd\n",
    "import numpy as np\n",
    "import seaborn as sns\n",
    "import matplotlib.pyplot as plt"
   ]
  },
  {
   "cell_type": "code",
   "execution_count": 2,
   "id": "97a3502c-ff6c-40ac-a2d9-71df3ed89886",
   "metadata": {},
   "outputs": [],
   "source": [
    "df = pd.read_csv(\"dos_attacks.csv\")"
   ]
  },
  {
   "cell_type": "code",
   "execution_count": 3,
   "id": "06dcd852-0486-43f4-8324-c8589f94ee1f",
   "metadata": {},
   "outputs": [
    {
     "data": {
      "text/html": [
       "<div>\n",
       "<style scoped>\n",
       "    .dataframe tbody tr th:only-of-type {\n",
       "        vertical-align: middle;\n",
       "    }\n",
       "\n",
       "    .dataframe tbody tr th {\n",
       "        vertical-align: top;\n",
       "    }\n",
       "\n",
       "    .dataframe thead th {\n",
       "        text-align: right;\n",
       "    }\n",
       "</style>\n",
       "<table border=\"1\" class=\"dataframe\">\n",
       "  <thead>\n",
       "    <tr style=\"text-align: right;\">\n",
       "      <th></th>\n",
       "      <th>protocol</th>\n",
       "      <th>flow_duration</th>\n",
       "      <th>total_forward_packets</th>\n",
       "      <th>total_backward_packets</th>\n",
       "      <th>total_forward_packets_length</th>\n",
       "      <th>total_backward_packets_length</th>\n",
       "      <th>forward_packet_length_mean</th>\n",
       "      <th>backward_packet_length_mean</th>\n",
       "      <th>forward_packets_per_second</th>\n",
       "      <th>backward_packets_per_second</th>\n",
       "      <th>forward_iat_mean</th>\n",
       "      <th>backward_iat_mean</th>\n",
       "      <th>flow_iat_mean</th>\n",
       "      <th>flow_packets_per_seconds</th>\n",
       "      <th>flow_bytes_per_seconds</th>\n",
       "      <th>label</th>\n",
       "    </tr>\n",
       "  </thead>\n",
       "  <tbody>\n",
       "    <tr>\n",
       "      <th>0</th>\n",
       "      <td>17</td>\n",
       "      <td>2468</td>\n",
       "      <td>4</td>\n",
       "      <td>0</td>\n",
       "      <td>1580.0</td>\n",
       "      <td>0.0</td>\n",
       "      <td>395.0</td>\n",
       "      <td>0.0</td>\n",
       "      <td>1620.745543</td>\n",
       "      <td>0.0</td>\n",
       "      <td>822.666667</td>\n",
       "      <td>0.0</td>\n",
       "      <td>822.666667</td>\n",
       "      <td>1620.745543</td>\n",
       "      <td>6.401945e+05</td>\n",
       "      <td>DrDoS_DNS</td>\n",
       "    </tr>\n",
       "    <tr>\n",
       "      <th>1</th>\n",
       "      <td>17</td>\n",
       "      <td>133</td>\n",
       "      <td>4</td>\n",
       "      <td>0</td>\n",
       "      <td>5888.0</td>\n",
       "      <td>0.0</td>\n",
       "      <td>1472.0</td>\n",
       "      <td>0.0</td>\n",
       "      <td>30075.187970</td>\n",
       "      <td>0.0</td>\n",
       "      <td>44.333333</td>\n",
       "      <td>0.0</td>\n",
       "      <td>44.333333</td>\n",
       "      <td>30075.187970</td>\n",
       "      <td>4.427068e+07</td>\n",
       "      <td>DrDoS_DNS</td>\n",
       "    </tr>\n",
       "    <tr>\n",
       "      <th>2</th>\n",
       "      <td>17</td>\n",
       "      <td>33509</td>\n",
       "      <td>200</td>\n",
       "      <td>0</td>\n",
       "      <td>88000.0</td>\n",
       "      <td>0.0</td>\n",
       "      <td>440.0</td>\n",
       "      <td>0.0</td>\n",
       "      <td>5968.545764</td>\n",
       "      <td>0.0</td>\n",
       "      <td>168.386935</td>\n",
       "      <td>0.0</td>\n",
       "      <td>168.386935</td>\n",
       "      <td>5968.545764</td>\n",
       "      <td>2.626160e+06</td>\n",
       "      <td>DrDoS_DNS</td>\n",
       "    </tr>\n",
       "    <tr>\n",
       "      <th>3</th>\n",
       "      <td>17</td>\n",
       "      <td>288495</td>\n",
       "      <td>200</td>\n",
       "      <td>0</td>\n",
       "      <td>88000.0</td>\n",
       "      <td>0.0</td>\n",
       "      <td>440.0</td>\n",
       "      <td>0.0</td>\n",
       "      <td>693.252916</td>\n",
       "      <td>0.0</td>\n",
       "      <td>1449.723618</td>\n",
       "      <td>0.0</td>\n",
       "      <td>1449.723618</td>\n",
       "      <td>693.252916</td>\n",
       "      <td>3.050313e+05</td>\n",
       "      <td>DrDoS_DNS</td>\n",
       "    </tr>\n",
       "    <tr>\n",
       "      <th>4</th>\n",
       "      <td>17</td>\n",
       "      <td>9</td>\n",
       "      <td>2</td>\n",
       "      <td>0</td>\n",
       "      <td>2062.0</td>\n",
       "      <td>0.0</td>\n",
       "      <td>1031.0</td>\n",
       "      <td>0.0</td>\n",
       "      <td>222222.222222</td>\n",
       "      <td>0.0</td>\n",
       "      <td>9.000000</td>\n",
       "      <td>0.0</td>\n",
       "      <td>9.000000</td>\n",
       "      <td>222222.222222</td>\n",
       "      <td>2.291111e+08</td>\n",
       "      <td>DrDoS_DNS</td>\n",
       "    </tr>\n",
       "  </tbody>\n",
       "</table>\n",
       "</div>"
      ],
      "text/plain": [
       "   protocol  flow_duration  total_forward_packets  total_backward_packets  \\\n",
       "0        17           2468                      4                       0   \n",
       "1        17            133                      4                       0   \n",
       "2        17          33509                    200                       0   \n",
       "3        17         288495                    200                       0   \n",
       "4        17              9                      2                       0   \n",
       "\n",
       "   total_forward_packets_length  total_backward_packets_length  \\\n",
       "0                        1580.0                            0.0   \n",
       "1                        5888.0                            0.0   \n",
       "2                       88000.0                            0.0   \n",
       "3                       88000.0                            0.0   \n",
       "4                        2062.0                            0.0   \n",
       "\n",
       "   forward_packet_length_mean  backward_packet_length_mean  \\\n",
       "0                       395.0                          0.0   \n",
       "1                      1472.0                          0.0   \n",
       "2                       440.0                          0.0   \n",
       "3                       440.0                          0.0   \n",
       "4                      1031.0                          0.0   \n",
       "\n",
       "   forward_packets_per_second  backward_packets_per_second  forward_iat_mean  \\\n",
       "0                 1620.745543                          0.0        822.666667   \n",
       "1                30075.187970                          0.0         44.333333   \n",
       "2                 5968.545764                          0.0        168.386935   \n",
       "3                  693.252916                          0.0       1449.723618   \n",
       "4               222222.222222                          0.0          9.000000   \n",
       "\n",
       "   backward_iat_mean  flow_iat_mean  flow_packets_per_seconds  \\\n",
       "0                0.0     822.666667               1620.745543   \n",
       "1                0.0      44.333333              30075.187970   \n",
       "2                0.0     168.386935               5968.545764   \n",
       "3                0.0    1449.723618                693.252916   \n",
       "4                0.0       9.000000             222222.222222   \n",
       "\n",
       "   flow_bytes_per_seconds      label  \n",
       "0            6.401945e+05  DrDoS_DNS  \n",
       "1            4.427068e+07  DrDoS_DNS  \n",
       "2            2.626160e+06  DrDoS_DNS  \n",
       "3            3.050313e+05  DrDoS_DNS  \n",
       "4            2.291111e+08  DrDoS_DNS  "
      ]
     },
     "execution_count": 3,
     "metadata": {},
     "output_type": "execute_result"
    }
   ],
   "source": [
    "df.head(5)"
   ]
  },
  {
   "cell_type": "code",
   "execution_count": 4,
   "id": "a66766c2-5b87-4a69-b717-379ded066c84",
   "metadata": {},
   "outputs": [
    {
     "data": {
      "text/plain": [
       "(33925, 16)"
      ]
     },
     "execution_count": 4,
     "metadata": {},
     "output_type": "execute_result"
    }
   ],
   "source": [
    "df.shape"
   ]
  },
  {
   "cell_type": "code",
   "execution_count": 5,
   "id": "3d04bc96-71f7-412f-b28a-c3e003cc9575",
   "metadata": {},
   "outputs": [],
   "source": [
    "df.columns = [x.strip() for x in df.columns]"
   ]
  },
  {
   "cell_type": "code",
   "execution_count": 6,
   "id": "087044bb-c617-4541-a0ec-15c6579d6fef",
   "metadata": {},
   "outputs": [
    {
     "data": {
      "text/plain": [
       "DrDoS_DNS    32797\n",
       "BENIGN        1128\n",
       "Name: label, dtype: int64"
      ]
     },
     "execution_count": 6,
     "metadata": {},
     "output_type": "execute_result"
    }
   ],
   "source": [
    "df.label.value_counts()"
   ]
  },
  {
   "cell_type": "code",
   "execution_count": 7,
   "id": "35b7606a-42bc-4c86-aa30-ac880f393688",
   "metadata": {},
   "outputs": [
    {
     "name": "stdout",
     "output_type": "stream",
     "text": [
      "protocol - column\n",
      "1 - UNIQUE VALUES\n",
      "flow_duration - column\n",
      "13386 - UNIQUE VALUES\n",
      "total_forward_packets - column\n",
      "70 - UNIQUE VALUES\n",
      "total_backward_packets - column\n",
      "3 - UNIQUE VALUES\n",
      "total_forward_packets_length - column\n",
      "1653 - UNIQUE VALUES\n",
      "total_backward_packets_length - column\n",
      "115 - UNIQUE VALUES\n",
      "forward_packet_length_mean - column\n",
      "1509 - UNIQUE VALUES\n",
      "backward_packet_length_mean - column\n",
      "116 - UNIQUE VALUES\n",
      "forward_packets_per_second - column\n",
      "14141 - UNIQUE VALUES\n",
      "backward_packets_per_second - column\n",
      "678 - UNIQUE VALUES\n",
      "forward_iat_mean - column\n",
      "14245 - UNIQUE VALUES\n",
      "backward_iat_mean - column\n",
      "29 - UNIQUE VALUES\n",
      "flow_iat_mean - column\n",
      "14915 - UNIQUE VALUES\n",
      "flow_packets_per_seconds - column\n",
      "14145 - UNIQUE VALUES\n",
      "flow_bytes_per_seconds - column\n",
      "30066 - UNIQUE VALUES\n",
      "label - column\n",
      "2 - UNIQUE VALUES\n"
     ]
    }
   ],
   "source": [
    "for i,y in enumerate(df.columns):\n",
    "    print(f\"{y} - column\",end=\"\\n\")\n",
    "    # print(df[y].value_counts(),end=\"\\n\")\n",
    "    print(f\"{df[y].nunique()} - UNIQUE VALUES\")"
   ]
  },
  {
   "cell_type": "code",
   "execution_count": 8,
   "id": "4e77f650-3286-4dff-8940-1ed42cc69f2f",
   "metadata": {},
   "outputs": [
    {
     "data": {
      "text/plain": [
       "{'protocol': 0.0,\n",
       " 'flow_duration': 0.0,\n",
       " 'total_forward_packets': 0.0,\n",
       " 'total_backward_packets': 0.0,\n",
       " 'total_forward_packets_length': 0.0,\n",
       " 'total_backward_packets_length': 0.0,\n",
       " 'forward_packet_length_mean': 0.0,\n",
       " 'backward_packet_length_mean': 0.0,\n",
       " 'forward_packets_per_second': 0.0,\n",
       " 'backward_packets_per_second': 0.0,\n",
       " 'forward_iat_mean': 0.0,\n",
       " 'backward_iat_mean': 0.0,\n",
       " 'flow_iat_mean': 0.0,\n",
       " 'flow_packets_per_seconds': 0.0,\n",
       " 'flow_bytes_per_seconds': 0.0,\n",
       " 'label': 0.0}"
      ]
     },
     "execution_count": 8,
     "metadata": {},
     "output_type": "execute_result"
    }
   ],
   "source": [
    "df.isna().mean().to_dict()"
   ]
  },
  {
   "cell_type": "code",
   "execution_count": 9,
   "id": "1e2a7f3f-f176-4628-8564-95d55df0c716",
   "metadata": {},
   "outputs": [
    {
     "data": {
      "text/plain": [
       "<AxesSubplot:>"
      ]
     },
     "execution_count": 9,
     "metadata": {},
     "output_type": "execute_result"
    },
    {
     "data": {
      "image/png": "[encoded data removed]",
      "text/plain": [
       "<Figure size 864x864 with 2 Axes>"
      ]
     },
     "metadata": {
      "needs_background": "light"
     },
     "output_type": "display_data"
    }
   ],
   "source": [
    "plt.figure(figsize=(12,12))\n",
    "sns.heatmap(df.corr(),annot=True)"
   ]
  },
  {
   "cell_type": "markdown",
   "id": "f0dd81f7-359a-4815-946a-50671c17b027",
   "metadata": {},
   "source": [
    "### Check class imbalance"
   ]
  },
  {
   "cell_type": "code",
   "execution_count": 10,
   "id": "468a88bd-b6d7-41b0-b981-00aace9c16d7",
   "metadata": {},
   "outputs": [
    {
     "data": {
      "text/html": [
       "<div>\n",
       "<style scoped>\n",
       "    .dataframe tbody tr th:only-of-type {\n",
       "        vertical-align: middle;\n",
       "    }\n",
       "\n",
       "    .dataframe tbody tr th {\n",
       "        vertical-align: top;\n",
       "    }\n",
       "\n",
       "    .dataframe thead th {\n",
       "        text-align: right;\n",
       "    }\n",
       "</style>\n",
       "<table border=\"1\" class=\"dataframe\">\n",
       "  <thead>\n",
       "    <tr style=\"text-align: right;\">\n",
       "      <th></th>\n",
       "      <th>index</th>\n",
       "      <th>label</th>\n",
       "    </tr>\n",
       "  </thead>\n",
       "  <tbody>\n",
       "    <tr>\n",
       "      <th>0</th>\n",
       "      <td>DrDoS_DNS</td>\n",
       "      <td>32797</td>\n",
       "    </tr>\n",
       "    <tr>\n",
       "      <th>1</th>\n",
       "      <td>BENIGN</td>\n",
       "      <td>1128</td>\n",
       "    </tr>\n",
       "  </tbody>\n",
       "</table>\n",
       "</div>"
      ],
      "text/plain": [
       "       index  label\n",
       "0  DrDoS_DNS  32797\n",
       "1     BENIGN   1128"
      ]
     },
     "execution_count": 10,
     "metadata": {},
     "output_type": "execute_result"
    }
   ],
   "source": [
    "df.label.value_counts().reset_index()"
   ]
  },
  {
   "cell_type": "code",
   "execution_count": 11,
   "id": "8acd3201-1cd4-4ad0-a16e-7468df11088b",
   "metadata": {},
   "outputs": [
    {
     "name": "stderr",
     "output_type": "stream",
     "text": [
      "/var/folders/dy/1q10xsj11l9b7f9xnnqpzqkh0000gn/T/ipykernel_88208/655468322.py:1: SettingWithCopyWarning: \n",
      "A value is trying to be set on a copy of a slice from a DataFrame\n",
      "\n",
      "See the caveats in the documentation: https://pandas.pydata.org/pandas-docs/stable/user_guide/indexing.html#returning-a-view-versus-a-copy\n",
      "  df.label.loc[df.label == \"BENIGN\"] = 0\n",
      "/var/folders/dy/1q10xsj11l9b7f9xnnqpzqkh0000gn/T/ipykernel_88208/655468322.py:2: SettingWithCopyWarning: \n",
      "A value is trying to be set on a copy of a slice from a DataFrame\n",
      "\n",
      "See the caveats in the documentation: https://pandas.pydata.org/pandas-docs/stable/user_guide/indexing.html#returning-a-view-versus-a-copy\n",
      "  df.label.loc[df.label == \"DrDoS_DNS\"] = 1\n"
     ]
    }
   ],
   "source": [
    "df.label.loc[df.label == \"BENIGN\"] = 0\n",
    "df.label.loc[df.label == \"DrDoS_DNS\"] = 1"
   ]
  },
  {
   "cell_type": "code",
   "execution_count": 12,
   "id": "0971cc63-cdd0-47c1-bbd0-878cf00c788a",
   "metadata": {},
   "outputs": [
    {
     "data": {
      "text/plain": [
       "1    32797\n",
       "0     1128\n",
       "Name: label, dtype: int64"
      ]
     },
     "execution_count": 12,
     "metadata": {},
     "output_type": "execute_result"
    }
   ],
   "source": [
    "df.label.value_counts()"
   ]
  },
  {
   "cell_type": "code",
   "execution_count": 13,
   "id": "3dfd5d3d-eaaf-4513-9ec4-88dd8a6414d3",
   "metadata": {},
   "outputs": [
    {
     "name": "stdout",
     "output_type": "stream",
     "text": [
      "label\n",
      "0     1128\n",
      "1    32797\n",
      "Name: forward_packets_per_second, dtype: int64\n"
     ]
    },
    {
     "data": {
      "image/png": "[encoded data removed]",
      "text/plain": [
       "<Figure size 432x288 with 1 Axes>"
      ]
     },
     "metadata": {
      "needs_background": "light"
     },
     "output_type": "display_data"
    }
   ],
   "source": [
    "df.groupby(\"label\")[\"forward_packets_per_second\"].mean().plot(kind='barh')\n",
    "print(df.groupby(\"label\")[\"forward_packets_per_second\"].count())"
   ]
  },
  {
   "cell_type": "code",
   "execution_count": 14,
   "id": "081b8222-50f3-4414-917e-c873a750d72b",
   "metadata": {},
   "outputs": [],
   "source": [
    "from sklearn.preprocessing import RobustScaler,MinMaxScaler,StandardScaler,LabelEncoder\n",
    "from sklearn.model_selection import train_test_split\n",
    "from sklearn.linear_model import LogisticRegression\n",
    "from sklearn.tree import DecisionTreeClassifier\n",
    "from sklearn.ensemble import RandomForestClassifier,AdaBoostClassifier,GradientBoostingClassifier\n",
    "from sklearn.metrics import accuracy_score,precision_score,f1_score\n",
    "from imblearn.over_sampling import SMOTE\n",
    "from sklearn.pipeline import Pipeline"
   ]
  },
  {
   "cell_type": "code",
   "execution_count": 15,
   "id": "16657852-d145-40ec-b21b-8aef275d8326",
   "metadata": {},
   "outputs": [],
   "source": [
    "X = df.iloc[:,:-1]\n",
    "Y = df.label.to_list()"
   ]
  },
  {
   "cell_type": "code",
   "execution_count": 16,
   "id": "8ad49ce4-829c-4dbd-81a1-e4668723aaa0",
   "metadata": {},
   "outputs": [],
   "source": [
    "smote = SMOTE(sampling_strategy='minority',random_state=42)"
   ]
  },
  {
   "cell_type": "code",
   "execution_count": 17,
   "id": "c19686c6-f826-490a-91bd-0de8d20f739a",
   "metadata": {},
   "outputs": [],
   "source": [
    "X_sm,Y_sm = smote.fit_resample(X,Y)"
   ]
  },
  {
   "cell_type": "code",
   "execution_count": 40,
   "id": "7e6bfc2a-3593-4cf0-bc93-aae045752d59",
   "metadata": {},
   "outputs": [],
   "source": [
    "x_train,x_test,y_train,y_test = train_test_split(X_sm,Y_sm,test_size=0.3,random_state=1)"
   ]
  },
  {
   "cell_type": "code",
   "execution_count": 19,
   "id": "6c6cba81-923d-414d-82ff-a9c66d192eda",
   "metadata": {},
   "outputs": [
    {
     "data": {
      "text/plain": [
       "MinMaxScaler()"
      ]
     },
     "execution_count": 19,
     "metadata": {},
     "output_type": "execute_result"
    }
   ],
   "source": [
    "scaler = MinMaxScaler()\n",
    "scaler.fit(x_train,y_train)"
   ]
  },
  {
   "cell_type": "code",
   "execution_count": 20,
   "id": "c4e7c4c5-6a2c-46a2-9e63-681e77b77e4a",
   "metadata": {},
   "outputs": [],
   "source": [
    "x_train_scaled = scaler.transform(x_train)"
   ]
  },
  {
   "cell_type": "code",
   "execution_count": 21,
   "id": "74e5a57a-26d9-461a-97e9-909b82b11c2a",
   "metadata": {},
   "outputs": [],
   "source": [
    "x_test_scaled = scaler.transform(x_test)"
   ]
  },
  {
   "cell_type": "code",
   "execution_count": 22,
   "id": "7b87823d-5f23-40bc-8d83-dd2ed0c7acf2",
   "metadata": {},
   "outputs": [
    {
     "data": {
      "text/plain": [
       "LogisticRegression()"
      ]
     },
     "execution_count": 22,
     "metadata": {},
     "output_type": "execute_result"
    }
   ],
   "source": [
    "log_reg = LogisticRegression()\n",
    "log_reg.fit(x_train_scaled,y_train)"
   ]
  },
  {
   "cell_type": "code",
   "execution_count": 23,
   "id": "eb71cc86-e3ce-4e43-bd75-ea8fbf30b883",
   "metadata": {},
   "outputs": [
    {
     "name": "stdout",
     "output_type": "stream",
     "text": [
      "Accuracy: 0.9979165608008537\n",
      "0.997955418141924\n"
     ]
    }
   ],
   "source": [
    "y_pred = log_reg.predict(x_test_scaled)\n",
    "# Finding accuracy by comparing actual response values(y_test)with predicted response value(y_pred)\n",
    "print(\"Accuracy:\", accuracy_score(y_test, y_pred))\n",
    "# Providing sample data and the model will make prediction out of that data\n",
    "print(f1_score(y_test,y_pred))"
   ]
  },
  {
   "cell_type": "code",
   "execution_count": 24,
   "id": "ad5e0c1d-a89e-47cd-857c-47b0c91cb9e9",
   "metadata": {},
   "outputs": [],
   "source": [
    "x_test['label'] = y_pred"
   ]
  },
  {
   "cell_type": "code",
   "execution_count": 41,
   "id": "e89d8a96-3277-43f5-93bb-85e68a275352",
   "metadata": {},
   "outputs": [
    {
     "data": {
      "text/html": [
       "<div>\n",
       "<style scoped>\n",
       "    .dataframe tbody tr th:only-of-type {\n",
       "        vertical-align: middle;\n",
       "    }\n",
       "\n",
       "    .dataframe tbody tr th {\n",
       "        vertical-align: top;\n",
       "    }\n",
       "\n",
       "    .dataframe thead th {\n",
       "        text-align: right;\n",
       "    }\n",
       "</style>\n",
       "<table border=\"1\" class=\"dataframe\">\n",
       "  <thead>\n",
       "    <tr style=\"text-align: right;\">\n",
       "      <th></th>\n",
       "      <th>protocol</th>\n",
       "      <th>flow_duration</th>\n",
       "      <th>total_forward_packets</th>\n",
       "      <th>total_backward_packets</th>\n",
       "      <th>total_forward_packets_length</th>\n",
       "      <th>total_backward_packets_length</th>\n",
       "      <th>forward_packet_length_mean</th>\n",
       "      <th>backward_packet_length_mean</th>\n",
       "      <th>forward_packets_per_second</th>\n",
       "      <th>backward_packets_per_second</th>\n",
       "      <th>forward_iat_mean</th>\n",
       "      <th>backward_iat_mean</th>\n",
       "      <th>flow_iat_mean</th>\n",
       "      <th>flow_packets_per_seconds</th>\n",
       "      <th>flow_bytes_per_seconds</th>\n",
       "    </tr>\n",
       "  </thead>\n",
       "  <tbody>\n",
       "    <tr>\n",
       "      <th>27287</th>\n",
       "      <td>17</td>\n",
       "      <td>213680</td>\n",
       "      <td>200</td>\n",
       "      <td>0</td>\n",
       "      <td>88000.000000</td>\n",
       "      <td>0.000000</td>\n",
       "      <td>440.000000</td>\n",
       "      <td>0.000000</td>\n",
       "      <td>935.979034</td>\n",
       "      <td>0.000000</td>\n",
       "      <td>1073.768844</td>\n",
       "      <td>0.000000</td>\n",
       "      <td>1073.768844</td>\n",
       "      <td>935.979034</td>\n",
       "      <td>4.118308e+05</td>\n",
       "    </tr>\n",
       "    <tr>\n",
       "      <th>21702</th>\n",
       "      <td>17</td>\n",
       "      <td>30130</td>\n",
       "      <td>178</td>\n",
       "      <td>0</td>\n",
       "      <td>77888.000000</td>\n",
       "      <td>0.000000</td>\n",
       "      <td>437.573034</td>\n",
       "      <td>0.000000</td>\n",
       "      <td>5907.733156</td>\n",
       "      <td>0.000000</td>\n",
       "      <td>170.225989</td>\n",
       "      <td>0.000000</td>\n",
       "      <td>170.225989</td>\n",
       "      <td>5907.733156</td>\n",
       "      <td>2.585065e+06</td>\n",
       "    </tr>\n",
       "    <tr>\n",
       "      <th>18166</th>\n",
       "      <td>17</td>\n",
       "      <td>17618</td>\n",
       "      <td>200</td>\n",
       "      <td>0</td>\n",
       "      <td>88000.000000</td>\n",
       "      <td>0.000000</td>\n",
       "      <td>440.000000</td>\n",
       "      <td>0.000000</td>\n",
       "      <td>11352.026337</td>\n",
       "      <td>0.000000</td>\n",
       "      <td>88.532663</td>\n",
       "      <td>0.000000</td>\n",
       "      <td>88.532663</td>\n",
       "      <td>11352.026337</td>\n",
       "      <td>4.994892e+06</td>\n",
       "    </tr>\n",
       "    <tr>\n",
       "      <th>34121</th>\n",
       "      <td>17</td>\n",
       "      <td>20803</td>\n",
       "      <td>2</td>\n",
       "      <td>2</td>\n",
       "      <td>66.595144</td>\n",
       "      <td>150.748407</td>\n",
       "      <td>33.297572</td>\n",
       "      <td>75.374204</td>\n",
       "      <td>96.135917</td>\n",
       "      <td>96.135917</td>\n",
       "      <td>2.000000</td>\n",
       "      <td>3.656449</td>\n",
       "      <td>6934.633890</td>\n",
       "      <td>192.271833</td>\n",
       "      <td>1.044721e+04</td>\n",
       "    </tr>\n",
       "    <tr>\n",
       "      <th>8875</th>\n",
       "      <td>17</td>\n",
       "      <td>903</td>\n",
       "      <td>4</td>\n",
       "      <td>0</td>\n",
       "      <td>2576.000000</td>\n",
       "      <td>0.000000</td>\n",
       "      <td>644.000000</td>\n",
       "      <td>0.000000</td>\n",
       "      <td>4429.678848</td>\n",
       "      <td>0.000000</td>\n",
       "      <td>301.000000</td>\n",
       "      <td>0.000000</td>\n",
       "      <td>301.000000</td>\n",
       "      <td>4429.678848</td>\n",
       "      <td>2.852713e+06</td>\n",
       "    </tr>\n",
       "    <tr>\n",
       "      <th>...</th>\n",
       "      <td>...</td>\n",
       "      <td>...</td>\n",
       "      <td>...</td>\n",
       "      <td>...</td>\n",
       "      <td>...</td>\n",
       "      <td>...</td>\n",
       "      <td>...</td>\n",
       "      <td>...</td>\n",
       "      <td>...</td>\n",
       "      <td>...</td>\n",
       "      <td>...</td>\n",
       "      <td>...</td>\n",
       "      <td>...</td>\n",
       "      <td>...</td>\n",
       "      <td>...</td>\n",
       "    </tr>\n",
       "    <tr>\n",
       "      <th>42758</th>\n",
       "      <td>17</td>\n",
       "      <td>20893</td>\n",
       "      <td>2</td>\n",
       "      <td>2</td>\n",
       "      <td>78.785414</td>\n",
       "      <td>150.657503</td>\n",
       "      <td>39.392707</td>\n",
       "      <td>75.328752</td>\n",
       "      <td>95.724641</td>\n",
       "      <td>95.724641</td>\n",
       "      <td>1.278541</td>\n",
       "      <td>1.278541</td>\n",
       "      <td>6964.421599</td>\n",
       "      <td>191.449281</td>\n",
       "      <td>1.098165e+04</td>\n",
       "    </tr>\n",
       "    <tr>\n",
       "      <th>23769</th>\n",
       "      <td>17</td>\n",
       "      <td>20644</td>\n",
       "      <td>2</td>\n",
       "      <td>2</td>\n",
       "      <td>62.000000</td>\n",
       "      <td>94.000000</td>\n",
       "      <td>31.000000</td>\n",
       "      <td>47.000000</td>\n",
       "      <td>96.880450</td>\n",
       "      <td>96.880450</td>\n",
       "      <td>1.000000</td>\n",
       "      <td>2.000000</td>\n",
       "      <td>6881.333333</td>\n",
       "      <td>193.760899</td>\n",
       "      <td>7.556675e+03</td>\n",
       "    </tr>\n",
       "    <tr>\n",
       "      <th>10489</th>\n",
       "      <td>17</td>\n",
       "      <td>15</td>\n",
       "      <td>2</td>\n",
       "      <td>0</td>\n",
       "      <td>2868.000000</td>\n",
       "      <td>0.000000</td>\n",
       "      <td>1434.000000</td>\n",
       "      <td>0.000000</td>\n",
       "      <td>133333.333333</td>\n",
       "      <td>0.000000</td>\n",
       "      <td>15.000000</td>\n",
       "      <td>0.000000</td>\n",
       "      <td>15.000000</td>\n",
       "      <td>133333.333333</td>\n",
       "      <td>1.912000e+08</td>\n",
       "    </tr>\n",
       "    <tr>\n",
       "      <th>60423</th>\n",
       "      <td>17</td>\n",
       "      <td>20736</td>\n",
       "      <td>2</td>\n",
       "      <td>2</td>\n",
       "      <td>76.210833</td>\n",
       "      <td>203.789167</td>\n",
       "      <td>38.105416</td>\n",
       "      <td>101.894584</td>\n",
       "      <td>96.447820</td>\n",
       "      <td>96.447820</td>\n",
       "      <td>3.000000</td>\n",
       "      <td>3.000000</td>\n",
       "      <td>6912.200516</td>\n",
       "      <td>192.895639</td>\n",
       "      <td>1.350269e+04</td>\n",
       "    </tr>\n",
       "    <tr>\n",
       "      <th>42752</th>\n",
       "      <td>17</td>\n",
       "      <td>21453</td>\n",
       "      <td>2</td>\n",
       "      <td>2</td>\n",
       "      <td>74.835640</td>\n",
       "      <td>186.835640</td>\n",
       "      <td>37.417820</td>\n",
       "      <td>93.417820</td>\n",
       "      <td>93.224755</td>\n",
       "      <td>93.224755</td>\n",
       "      <td>1.582180</td>\n",
       "      <td>91.831324</td>\n",
       "      <td>7151.187429</td>\n",
       "      <td>186.449509</td>\n",
       "      <td>1.219701e+04</td>\n",
       "    </tr>\n",
       "  </tbody>\n",
       "</table>\n",
       "<p>19679 rows × 15 columns</p>\n",
       "</div>"
      ],
      "text/plain": [
       "       protocol  flow_duration  total_forward_packets  total_backward_packets  \\\n",
       "27287        17         213680                    200                       0   \n",
       "21702        17          30130                    178                       0   \n",
       "18166        17          17618                    200                       0   \n",
       "34121        17          20803                      2                       2   \n",
       "8875         17            903                      4                       0   \n",
       "...         ...            ...                    ...                     ...   \n",
       "42758        17          20893                      2                       2   \n",
       "23769        17          20644                      2                       2   \n",
       "10489        17             15                      2                       0   \n",
       "60423        17          20736                      2                       2   \n",
       "42752        17          21453                      2                       2   \n",
       "\n",
       "       total_forward_packets_length  total_backward_packets_length  \\\n",
       "27287                  88000.000000                       0.000000   \n",
       "21702                  77888.000000                       0.000000   \n",
       "18166                  88000.000000                       0.000000   \n",
       "34121                     66.595144                     150.748407   \n",
       "8875                    2576.000000                       0.000000   \n",
       "...                             ...                            ...   \n",
       "42758                     78.785414                     150.657503   \n",
       "23769                     62.000000                      94.000000   \n",
       "10489                   2868.000000                       0.000000   \n",
       "60423                     76.210833                     203.789167   \n",
       "42752                     74.835640                     186.835640   \n",
       "\n",
       "       forward_packet_length_mean  backward_packet_length_mean  \\\n",
       "27287                  440.000000                     0.000000   \n",
       "21702                  437.573034                     0.000000   \n",
       "18166                  440.000000                     0.000000   \n",
       "34121                   33.297572                    75.374204   \n",
       "8875                   644.000000                     0.000000   \n",
       "...                           ...                          ...   \n",
       "42758                   39.392707                    75.328752   \n",
       "23769                   31.000000                    47.000000   \n",
       "10489                 1434.000000                     0.000000   \n",
       "60423                   38.105416                   101.894584   \n",
       "42752                   37.417820                    93.417820   \n",
       "\n",
       "       forward_packets_per_second  backward_packets_per_second  \\\n",
       "27287                  935.979034                     0.000000   \n",
       "21702                 5907.733156                     0.000000   \n",
       "18166                11352.026337                     0.000000   \n",
       "34121                   96.135917                    96.135917   \n",
       "8875                  4429.678848                     0.000000   \n",
       "...                           ...                          ...   \n",
       "42758                   95.724641                    95.724641   \n",
       "23769                   96.880450                    96.880450   \n",
       "10489               133333.333333                     0.000000   \n",
       "60423                   96.447820                    96.447820   \n",
       "42752                   93.224755                    93.224755   \n",
       "\n",
       "       forward_iat_mean  backward_iat_mean  flow_iat_mean  \\\n",
       "27287       1073.768844           0.000000    1073.768844   \n",
       "21702        170.225989           0.000000     170.225989   \n",
       "18166         88.532663           0.000000      88.532663   \n",
       "34121          2.000000           3.656449    6934.633890   \n",
       "8875         301.000000           0.000000     301.000000   \n",
       "...                 ...                ...            ...   \n",
       "42758          1.278541           1.278541    6964.421599   \n",
       "23769          1.000000           2.000000    6881.333333   \n",
       "10489         15.000000           0.000000      15.000000   \n",
       "60423          3.000000           3.000000    6912.200516   \n",
       "42752          1.582180          91.831324    7151.187429   \n",
       "\n",
       "       flow_packets_per_seconds  flow_bytes_per_seconds  \n",
       "27287                935.979034            4.118308e+05  \n",
       "21702               5907.733156            2.585065e+06  \n",
       "18166              11352.026337            4.994892e+06  \n",
       "34121                192.271833            1.044721e+04  \n",
       "8875                4429.678848            2.852713e+06  \n",
       "...                         ...                     ...  \n",
       "42758                191.449281            1.098165e+04  \n",
       "23769                193.760899            7.556675e+03  \n",
       "10489             133333.333333            1.912000e+08  \n",
       "60423                192.895639            1.350269e+04  \n",
       "42752                186.449509            1.219701e+04  \n",
       "\n",
       "[19679 rows x 15 columns]"
      ]
     },
     "execution_count": 41,
     "metadata": {},
     "output_type": "execute_result"
    }
   ],
   "source": [
    "x_test"
   ]
  },
  {
   "cell_type": "code",
   "execution_count": 26,
   "id": "1b8b1272-8eec-4531-9e56-1d5f0f75a15a",
   "metadata": {},
   "outputs": [],
   "source": [
    "predict = pd.DataFrame(log_reg.coef_[0])"
   ]
  },
  {
   "cell_type": "code",
   "execution_count": 27,
   "id": "18ecd28f-7e5e-441a-b2ff-2b57914efe72",
   "metadata": {},
   "outputs": [],
   "source": [
    "predict[\"features\"] = X.columns\n",
    "predict.columns = [\"coeffcients\",\"Features\"]"
   ]
  },
  {
   "cell_type": "code",
   "execution_count": 28,
   "id": "2de525a1-a305-4848-b166-add629fd35c4",
   "metadata": {},
   "outputs": [
    {
     "data": {
      "text/html": [
       "<div>\n",
       "<style scoped>\n",
       "    .dataframe tbody tr th:only-of-type {\n",
       "        vertical-align: middle;\n",
       "    }\n",
       "\n",
       "    .dataframe tbody tr th {\n",
       "        vertical-align: top;\n",
       "    }\n",
       "\n",
       "    .dataframe thead th {\n",
       "        text-align: right;\n",
       "    }\n",
       "</style>\n",
       "<table border=\"1\" class=\"dataframe\">\n",
       "  <thead>\n",
       "    <tr style=\"text-align: right;\">\n",
       "      <th></th>\n",
       "      <th>coeffcients</th>\n",
       "      <th>Features</th>\n",
       "    </tr>\n",
       "  </thead>\n",
       "  <tbody>\n",
       "    <tr>\n",
       "      <th>0</th>\n",
       "      <td>0.000000</td>\n",
       "      <td>protocol</td>\n",
       "    </tr>\n",
       "    <tr>\n",
       "      <th>1</th>\n",
       "      <td>-6.103924</td>\n",
       "      <td>flow_duration</td>\n",
       "    </tr>\n",
       "    <tr>\n",
       "      <th>2</th>\n",
       "      <td>1.630979</td>\n",
       "      <td>total_forward_packets</td>\n",
       "    </tr>\n",
       "    <tr>\n",
       "      <th>3</th>\n",
       "      <td>-8.235470</td>\n",
       "      <td>total_backward_packets</td>\n",
       "    </tr>\n",
       "    <tr>\n",
       "      <th>4</th>\n",
       "      <td>2.931269</td>\n",
       "      <td>total_forward_packets_length</td>\n",
       "    </tr>\n",
       "    <tr>\n",
       "      <th>5</th>\n",
       "      <td>-4.820583</td>\n",
       "      <td>total_backward_packets_length</td>\n",
       "    </tr>\n",
       "    <tr>\n",
       "      <th>6</th>\n",
       "      <td>7.872188</td>\n",
       "      <td>forward_packet_length_mean</td>\n",
       "    </tr>\n",
       "    <tr>\n",
       "      <th>7</th>\n",
       "      <td>-4.783317</td>\n",
       "      <td>backward_packet_length_mean</td>\n",
       "    </tr>\n",
       "    <tr>\n",
       "      <th>8</th>\n",
       "      <td>2.880999</td>\n",
       "      <td>forward_packets_per_second</td>\n",
       "    </tr>\n",
       "    <tr>\n",
       "      <th>9</th>\n",
       "      <td>-6.611126</td>\n",
       "      <td>backward_packets_per_second</td>\n",
       "    </tr>\n",
       "    <tr>\n",
       "      <th>10</th>\n",
       "      <td>-6.377359</td>\n",
       "      <td>forward_iat_mean</td>\n",
       "    </tr>\n",
       "    <tr>\n",
       "      <th>11</th>\n",
       "      <td>-0.105514</td>\n",
       "      <td>backward_iat_mean</td>\n",
       "    </tr>\n",
       "    <tr>\n",
       "      <th>12</th>\n",
       "      <td>-6.347123</td>\n",
       "      <td>flow_iat_mean</td>\n",
       "    </tr>\n",
       "    <tr>\n",
       "      <th>13</th>\n",
       "      <td>2.880836</td>\n",
       "      <td>flow_packets_per_seconds</td>\n",
       "    </tr>\n",
       "    <tr>\n",
       "      <th>14</th>\n",
       "      <td>0.779794</td>\n",
       "      <td>flow_bytes_per_seconds</td>\n",
       "    </tr>\n",
       "  </tbody>\n",
       "</table>\n",
       "</div>"
      ],
      "text/plain": [
       "    coeffcients                       Features\n",
       "0      0.000000                       protocol\n",
       "1     -6.103924                  flow_duration\n",
       "2      1.630979          total_forward_packets\n",
       "3     -8.235470         total_backward_packets\n",
       "4      2.931269   total_forward_packets_length\n",
       "5     -4.820583  total_backward_packets_length\n",
       "6      7.872188     forward_packet_length_mean\n",
       "7     -4.783317    backward_packet_length_mean\n",
       "8      2.880999     forward_packets_per_second\n",
       "9     -6.611126    backward_packets_per_second\n",
       "10    -6.377359               forward_iat_mean\n",
       "11    -0.105514              backward_iat_mean\n",
       "12    -6.347123                  flow_iat_mean\n",
       "13     2.880836       flow_packets_per_seconds\n",
       "14     0.779794         flow_bytes_per_seconds"
      ]
     },
     "execution_count": 28,
     "metadata": {},
     "output_type": "execute_result"
    }
   ],
   "source": [
    "predict"
   ]
  },
  {
   "cell_type": "code",
   "execution_count": 29,
   "id": "2271693d-3662-4cea-9844-a07d5665d6a3",
   "metadata": {},
   "outputs": [
    {
     "name": "stderr",
     "output_type": "stream",
     "text": [
      "/opt/homebrew/Caskroom/miniconda/base/envs/python_env/lib/python3.10/site-packages/seaborn/_decorators.py:36: FutureWarning: Pass the following variables as keyword args: x, y. From version 0.12, the only valid positional argument will be `data`, and passing other arguments without an explicit keyword will result in an error or misinterpretation.\n",
      "  warnings.warn(\n"
     ]
    },
    {
     "data": {
      "text/plain": [
       "<AxesSubplot:xlabel='coeffcients', ylabel='Features'>"
      ]
     },
     "execution_count": 29,
     "metadata": {},
     "output_type": "execute_result"
    },
    {
     "data": {
      "image/png": "[encoded data removed]",
      "text/plain": [
       "<Figure size 432x288 with 1 Axes>"
      ]
     },
     "metadata": {
      "needs_background": "light"
     },
     "output_type": "display_data"
    }
   ],
   "source": [
    "sns.barplot(predict.coeffcients,predict.Features)"
   ]
  },
  {
   "cell_type": "code",
   "execution_count": 30,
   "id": "a32361b7-7b81-40eb-8c4a-8a0d6d6c13b8",
   "metadata": {},
   "outputs": [],
   "source": [
    "pipe = Pipeline(\n",
    "        steps= [\n",
    "            \n",
    "            (\"scaler\",MinMaxScaler()),\n",
    "            (\"reg\",LogisticRegression())\n",
    "        ]\n",
    "    )"
   ]
  },
  {
   "cell_type": "code",
   "execution_count": 31,
   "id": "a7d38a31-d010-453c-9de4-ed317444a89e",
   "metadata": {},
   "outputs": [
    {
     "data": {
      "text/plain": [
       "[[17.0,\n",
       "  2468.0,\n",
       "  4.0,\n",
       "  0.0,\n",
       "  1580.0,\n",
       "  0.0,\n",
       "  395.0,\n",
       "  0.0,\n",
       "  1620.7455429497568,\n",
       "  0.0,\n",
       "  822.6666666666667,\n",
       "  0.0,\n",
       "  822.6666666666667,\n",
       "  1620.7455429497568,\n",
       "  640194.4894651539]]"
      ]
     },
     "execution_count": 31,
     "metadata": {},
     "output_type": "execute_result"
    }
   ],
   "source": [
    "[X.loc[0,:].to_list()]"
   ]
  },
  {
   "cell_type": "code",
   "execution_count": 32,
   "id": "0bbbc36d-58c2-4f22-b9cc-a831239d49d6",
   "metadata": {},
   "outputs": [
    {
     "data": {
      "text/plain": [
       "Pipeline(steps=[('scaler', MinMaxScaler()), ('reg', LogisticRegression())])"
      ]
     },
     "execution_count": 32,
     "metadata": {},
     "output_type": "execute_result"
    }
   ],
   "source": [
    "pipe.fit(x_train,y_train)"
   ]
  },
  {
   "cell_type": "code",
   "execution_count": 33,
   "id": "a5bc8d00-a363-4cde-a586-e6396c2a0f9f",
   "metadata": {},
   "outputs": [
    {
     "name": "stderr",
     "output_type": "stream",
     "text": [
      "/opt/homebrew/Caskroom/miniconda/base/envs/python_env/lib/python3.10/site-packages/sklearn/base.py:450: UserWarning: X does not have valid feature names, but MinMaxScaler was fitted with feature names\n",
      "  warnings.warn(\n"
     ]
    },
    {
     "data": {
      "text/plain": [
       "array([[-9.14467240e-05, -9.29979973e+00]])"
      ]
     },
     "execution_count": 33,
     "metadata": {},
     "output_type": "execute_result"
    }
   ],
   "source": [
    "pipe.predict_log_proba([df[df.label != 1].iloc[1,:-1]])"
   ]
  },
  {
   "cell_type": "code",
   "execution_count": 34,
   "id": "7b259d63-a6aa-4dce-8dcc-fbd3573453d9",
   "metadata": {},
   "outputs": [],
   "source": [
    "import pickle"
   ]
  },
  {
   "cell_type": "code",
   "execution_count": 35,
   "id": "f43f5e8e-611a-4c7c-81c0-3b52e1eca53e",
   "metadata": {},
   "outputs": [],
   "source": [
    "pickle.dump(pipe, open(\"model.pkl\", 'wb'))"
   ]
  },
  {
   "cell_type": "code",
   "execution_count": 36,
   "id": "3498b133-e094-4682-8be4-7ca533cc318b",
   "metadata": {},
   "outputs": [],
   "source": [
    "model = pickle.load(open(\"model.pkl\",\"rb\"))"
   ]
  },
  {
   "cell_type": "code",
   "execution_count": 37,
   "id": "dc2bfe6b-aeaa-41ca-b93f-3bfa9e21df54",
   "metadata": {},
   "outputs": [
    {
     "name": "stderr",
     "output_type": "stream",
     "text": [
      "/opt/homebrew/Caskroom/miniconda/base/envs/python_env/lib/python3.10/site-packages/sklearn/base.py:450: UserWarning: X does not have valid feature names, but MinMaxScaler was fitted with feature names\n",
      "  warnings.warn(\n"
     ]
    },
    {
     "data": {
      "text/plain": [
       "array([0])"
      ]
     },
     "execution_count": 37,
     "metadata": {},
     "output_type": "execute_result"
    }
   ],
   "source": [
    "model.predict([df[df.label != 1].iloc[1,:-1]])"
   ]
  },
  {
   "cell_type": "code",
   "execution_count": 38,
   "id": "5bbdccaa-0b80-4535-b222-d3ec331576cf",
   "metadata": {},
   "outputs": [
    {
     "data": {
      "text/html": [
       "<div>\n",
       "<style scoped>\n",
       "    .dataframe tbody tr th:only-of-type {\n",
       "        vertical-align: middle;\n",
       "    }\n",
       "\n",
       "    .dataframe tbody tr th {\n",
       "        vertical-align: top;\n",
       "    }\n",
       "\n",
       "    .dataframe thead th {\n",
       "        text-align: right;\n",
       "    }\n",
       "</style>\n",
       "<table border=\"1\" class=\"dataframe\">\n",
       "  <thead>\n",
       "    <tr style=\"text-align: right;\">\n",
       "      <th></th>\n",
       "      <th>protocol</th>\n",
       "      <th>flow_duration</th>\n",
       "      <th>total_forward_packets</th>\n",
       "      <th>total_backward_packets</th>\n",
       "      <th>total_forward_packets_length</th>\n",
       "      <th>total_backward_packets_length</th>\n",
       "      <th>forward_packet_length_mean</th>\n",
       "      <th>backward_packet_length_mean</th>\n",
       "      <th>forward_packets_per_second</th>\n",
       "      <th>backward_packets_per_second</th>\n",
       "      <th>forward_iat_mean</th>\n",
       "      <th>backward_iat_mean</th>\n",
       "      <th>flow_iat_mean</th>\n",
       "      <th>flow_packets_per_seconds</th>\n",
       "      <th>flow_bytes_per_seconds</th>\n",
       "      <th>label</th>\n",
       "    </tr>\n",
       "  </thead>\n",
       "  <tbody>\n",
       "    <tr>\n",
       "      <th>34121</th>\n",
       "      <td>17</td>\n",
       "      <td>20803</td>\n",
       "      <td>2</td>\n",
       "      <td>2</td>\n",
       "      <td>66.595144</td>\n",
       "      <td>150.748407</td>\n",
       "      <td>33.297572</td>\n",
       "      <td>75.374204</td>\n",
       "      <td>96.135917</td>\n",
       "      <td>96.135917</td>\n",
       "      <td>2.000000</td>\n",
       "      <td>3.656449</td>\n",
       "      <td>6934.633890</td>\n",
       "      <td>192.271833</td>\n",
       "      <td>10447.213845</td>\n",
       "      <td>0</td>\n",
       "    </tr>\n",
       "    <tr>\n",
       "      <th>44067</th>\n",
       "      <td>17</td>\n",
       "      <td>20911</td>\n",
       "      <td>2</td>\n",
       "      <td>2</td>\n",
       "      <td>88.262569</td>\n",
       "      <td>142.759312</td>\n",
       "      <td>44.131285</td>\n",
       "      <td>71.379656</td>\n",
       "      <td>95.642177</td>\n",
       "      <td>95.642177</td>\n",
       "      <td>2.021881</td>\n",
       "      <td>1.510940</td>\n",
       "      <td>6970.428150</td>\n",
       "      <td>191.284354</td>\n",
       "      <td>11047.688111</td>\n",
       "      <td>0</td>\n",
       "    </tr>\n",
       "    <tr>\n",
       "      <th>46341</th>\n",
       "      <td>17</td>\n",
       "      <td>20620</td>\n",
       "      <td>2</td>\n",
       "      <td>2</td>\n",
       "      <td>79.051853</td>\n",
       "      <td>273.896294</td>\n",
       "      <td>39.525927</td>\n",
       "      <td>136.948147</td>\n",
       "      <td>96.989603</td>\n",
       "      <td>96.989603</td>\n",
       "      <td>3.000000</td>\n",
       "      <td>3.000000</td>\n",
       "      <td>6873.592599</td>\n",
       "      <td>193.979206</td>\n",
       "      <td>17116.185539</td>\n",
       "      <td>0</td>\n",
       "    </tr>\n",
       "    <tr>\n",
       "      <th>64779</th>\n",
       "      <td>17</td>\n",
       "      <td>164155</td>\n",
       "      <td>2</td>\n",
       "      <td>2</td>\n",
       "      <td>57.381995</td>\n",
       "      <td>124.892940</td>\n",
       "      <td>28.690997</td>\n",
       "      <td>62.446470</td>\n",
       "      <td>12.368613</td>\n",
       "      <td>12.368613</td>\n",
       "      <td>56.107060</td>\n",
       "      <td>2.422749</td>\n",
       "      <td>54718.501760</td>\n",
       "      <td>24.737227</td>\n",
       "      <td>1090.584709</td>\n",
       "      <td>0</td>\n",
       "    </tr>\n",
       "    <tr>\n",
       "      <th>65019</th>\n",
       "      <td>17</td>\n",
       "      <td>20783</td>\n",
       "      <td>2</td>\n",
       "      <td>2</td>\n",
       "      <td>72.336408</td>\n",
       "      <td>188.191626</td>\n",
       "      <td>36.168204</td>\n",
       "      <td>94.095813</td>\n",
       "      <td>96.228507</td>\n",
       "      <td>96.228507</td>\n",
       "      <td>3.000000</td>\n",
       "      <td>2.264017</td>\n",
       "      <td>6927.960255</td>\n",
       "      <td>192.457014</td>\n",
       "      <td>12535.071454</td>\n",
       "      <td>0</td>\n",
       "    </tr>\n",
       "    <tr>\n",
       "      <th>...</th>\n",
       "      <td>...</td>\n",
       "      <td>...</td>\n",
       "      <td>...</td>\n",
       "      <td>...</td>\n",
       "      <td>...</td>\n",
       "      <td>...</td>\n",
       "      <td>...</td>\n",
       "      <td>...</td>\n",
       "      <td>...</td>\n",
       "      <td>...</td>\n",
       "      <td>...</td>\n",
       "      <td>...</td>\n",
       "      <td>...</td>\n",
       "      <td>...</td>\n",
       "      <td>...</td>\n",
       "      <td>...</td>\n",
       "    </tr>\n",
       "    <tr>\n",
       "      <th>56412</th>\n",
       "      <td>17</td>\n",
       "      <td>47344</td>\n",
       "      <td>2</td>\n",
       "      <td>2</td>\n",
       "      <td>76.215815</td>\n",
       "      <td>188.388467</td>\n",
       "      <td>38.107907</td>\n",
       "      <td>94.194233</td>\n",
       "      <td>42.243757</td>\n",
       "      <td>42.243757</td>\n",
       "      <td>3.043163</td>\n",
       "      <td>1.978419</td>\n",
       "      <td>15781.431746</td>\n",
       "      <td>84.487514</td>\n",
       "      <td>5588.997228</td>\n",
       "      <td>0</td>\n",
       "    </tr>\n",
       "    <tr>\n",
       "      <th>42758</th>\n",
       "      <td>17</td>\n",
       "      <td>20893</td>\n",
       "      <td>2</td>\n",
       "      <td>2</td>\n",
       "      <td>78.785414</td>\n",
       "      <td>150.657503</td>\n",
       "      <td>39.392707</td>\n",
       "      <td>75.328752</td>\n",
       "      <td>95.724641</td>\n",
       "      <td>95.724641</td>\n",
       "      <td>1.278541</td>\n",
       "      <td>1.278541</td>\n",
       "      <td>6964.421599</td>\n",
       "      <td>191.449281</td>\n",
       "      <td>10981.654749</td>\n",
       "      <td>0</td>\n",
       "    </tr>\n",
       "    <tr>\n",
       "      <th>23769</th>\n",
       "      <td>17</td>\n",
       "      <td>20644</td>\n",
       "      <td>2</td>\n",
       "      <td>2</td>\n",
       "      <td>62.000000</td>\n",
       "      <td>94.000000</td>\n",
       "      <td>31.000000</td>\n",
       "      <td>47.000000</td>\n",
       "      <td>96.880450</td>\n",
       "      <td>96.880450</td>\n",
       "      <td>1.000000</td>\n",
       "      <td>2.000000</td>\n",
       "      <td>6881.333333</td>\n",
       "      <td>193.760899</td>\n",
       "      <td>7556.675063</td>\n",
       "      <td>0</td>\n",
       "    </tr>\n",
       "    <tr>\n",
       "      <th>60423</th>\n",
       "      <td>17</td>\n",
       "      <td>20736</td>\n",
       "      <td>2</td>\n",
       "      <td>2</td>\n",
       "      <td>76.210833</td>\n",
       "      <td>203.789167</td>\n",
       "      <td>38.105416</td>\n",
       "      <td>101.894584</td>\n",
       "      <td>96.447820</td>\n",
       "      <td>96.447820</td>\n",
       "      <td>3.000000</td>\n",
       "      <td>3.000000</td>\n",
       "      <td>6912.200516</td>\n",
       "      <td>192.895639</td>\n",
       "      <td>13502.694735</td>\n",
       "      <td>0</td>\n",
       "    </tr>\n",
       "    <tr>\n",
       "      <th>42752</th>\n",
       "      <td>17</td>\n",
       "      <td>21453</td>\n",
       "      <td>2</td>\n",
       "      <td>2</td>\n",
       "      <td>74.835640</td>\n",
       "      <td>186.835640</td>\n",
       "      <td>37.417820</td>\n",
       "      <td>93.417820</td>\n",
       "      <td>93.224755</td>\n",
       "      <td>93.224755</td>\n",
       "      <td>1.582180</td>\n",
       "      <td>91.831324</td>\n",
       "      <td>7151.187429</td>\n",
       "      <td>186.449509</td>\n",
       "      <td>12197.006352</td>\n",
       "      <td>0</td>\n",
       "    </tr>\n",
       "  </tbody>\n",
       "</table>\n",
       "<p>9632 rows × 16 columns</p>\n",
       "</div>"
      ],
      "text/plain": [
       "       protocol  flow_duration  total_forward_packets  total_backward_packets  \\\n",
       "34121        17          20803                      2                       2   \n",
       "44067        17          20911                      2                       2   \n",
       "46341        17          20620                      2                       2   \n",
       "64779        17         164155                      2                       2   \n",
       "65019        17          20783                      2                       2   \n",
       "...         ...            ...                    ...                     ...   \n",
       "56412        17          47344                      2                       2   \n",
       "42758        17          20893                      2                       2   \n",
       "23769        17          20644                      2                       2   \n",
       "60423        17          20736                      2                       2   \n",
       "42752        17          21453                      2                       2   \n",
       "\n",
       "       total_forward_packets_length  total_backward_packets_length  \\\n",
       "34121                     66.595144                     150.748407   \n",
       "44067                     88.262569                     142.759312   \n",
       "46341                     79.051853                     273.896294   \n",
       "64779                     57.381995                     124.892940   \n",
       "65019                     72.336408                     188.191626   \n",
       "...                             ...                            ...   \n",
       "56412                     76.215815                     188.388467   \n",
       "42758                     78.785414                     150.657503   \n",
       "23769                     62.000000                      94.000000   \n",
       "60423                     76.210833                     203.789167   \n",
       "42752                     74.835640                     186.835640   \n",
       "\n",
       "       forward_packet_length_mean  backward_packet_length_mean  \\\n",
       "34121                   33.297572                    75.374204   \n",
       "44067                   44.131285                    71.379656   \n",
       "46341                   39.525927                   136.948147   \n",
       "64779                   28.690997                    62.446470   \n",
       "65019                   36.168204                    94.095813   \n",
       "...                           ...                          ...   \n",
       "56412                   38.107907                    94.194233   \n",
       "42758                   39.392707                    75.328752   \n",
       "23769                   31.000000                    47.000000   \n",
       "60423                   38.105416                   101.894584   \n",
       "42752                   37.417820                    93.417820   \n",
       "\n",
       "       forward_packets_per_second  backward_packets_per_second  \\\n",
       "34121                   96.135917                    96.135917   \n",
       "44067                   95.642177                    95.642177   \n",
       "46341                   96.989603                    96.989603   \n",
       "64779                   12.368613                    12.368613   \n",
       "65019                   96.228507                    96.228507   \n",
       "...                           ...                          ...   \n",
       "56412                   42.243757                    42.243757   \n",
       "42758                   95.724641                    95.724641   \n",
       "23769                   96.880450                    96.880450   \n",
       "60423                   96.447820                    96.447820   \n",
       "42752                   93.224755                    93.224755   \n",
       "\n",
       "       forward_iat_mean  backward_iat_mean  flow_iat_mean  \\\n",
       "34121          2.000000           3.656449    6934.633890   \n",
       "44067          2.021881           1.510940    6970.428150   \n",
       "46341          3.000000           3.000000    6873.592599   \n",
       "64779         56.107060           2.422749   54718.501760   \n",
       "65019          3.000000           2.264017    6927.960255   \n",
       "...                 ...                ...            ...   \n",
       "56412          3.043163           1.978419   15781.431746   \n",
       "42758          1.278541           1.278541    6964.421599   \n",
       "23769          1.000000           2.000000    6881.333333   \n",
       "60423          3.000000           3.000000    6912.200516   \n",
       "42752          1.582180          91.831324    7151.187429   \n",
       "\n",
       "       flow_packets_per_seconds  flow_bytes_per_seconds  label  \n",
       "34121                192.271833            10447.213845      0  \n",
       "44067                191.284354            11047.688111      0  \n",
       "46341                193.979206            17116.185539      0  \n",
       "64779                 24.737227             1090.584709      0  \n",
       "65019                192.457014            12535.071454      0  \n",
       "...                         ...                     ...    ...  \n",
       "56412                 84.487514             5588.997228      0  \n",
       "42758                191.449281            10981.654749      0  \n",
       "23769                193.760899             7556.675063      0  \n",
       "60423                192.895639            13502.694735      0  \n",
       "42752                186.449509            12197.006352      0  \n",
       "\n",
       "[9632 rows x 16 columns]"
      ]
     },
     "execution_count": 38,
     "metadata": {},
     "output_type": "execute_result"
    }
   ],
   "source": [
    "x_test[x_test.label != 1]"
   ]
  },
  {
   "cell_type": "code",
   "execution_count": 42,
   "id": "cb884504-49fa-48b0-9f5b-2fbafb4d72ee",
   "metadata": {},
   "outputs": [],
   "source": [
    "x_test.to_csv(\"test.csv\",index=False)"
   ]
  },
  {
   "cell_type": "code",
   "execution_count": null,
   "id": "10640390",
   "metadata": {},
   "outputs": [],
   "source": []
  }
 ],
 "metadata": {
  "kernelspec": {
   "display_name": "Python 3 (ipykernel)",
   "language": "python",
   "name": "python3"
  },
  "language_info": {
   "codemirror_mode": {
    "name": "ipython",
    "version": 3
   },
   "file_extension": ".py",
   "mimetype": "text/x-python",
   "name": "python",
   "nbconvert_exporter": "python",
   "pygments_lexer": "ipython3",
   "version": "3.10.2"
  }
 },
 "nbformat": 4,
 "nbformat_minor": 5
}
